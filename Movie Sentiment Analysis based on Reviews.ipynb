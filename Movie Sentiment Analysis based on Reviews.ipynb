{
 "cells": [
  {
   "cell_type": "markdown",
   "metadata": {},
   "source": [
    "# __Movie Sentiment Analysis (Reviews)__"
   ]
  },
  {
   "cell_type": "code",
   "execution_count": 1,
   "metadata": {},
   "outputs": [],
   "source": [
    "import pandas as pd\n",
    "import numpy as np"
   ]
  },
  {
   "cell_type": "markdown",
   "metadata": {},
   "source": [
    "IMDB dataset for movie details and reviews: data source from https://www.kaggle.com/datasets/raynardj/imdb-vision-and-nlp/data"
   ]
  },
  {
   "cell_type": "code",
   "execution_count": 2,
   "metadata": {},
   "outputs": [
    {
     "data": {
      "text/html": [
       "<div>\n",
       "<style scoped>\n",
       "    .dataframe tbody tr th:only-of-type {\n",
       "        vertical-align: middle;\n",
       "    }\n",
       "\n",
       "    .dataframe tbody tr th {\n",
       "        vertical-align: top;\n",
       "    }\n",
       "\n",
       "    .dataframe thead th {\n",
       "        text-align: right;\n",
       "    }\n",
       "</style>\n",
       "<table border=\"1\" class=\"dataframe\">\n",
       "  <thead>\n",
       "    <tr style=\"text-align: right;\">\n",
       "      <th></th>\n",
       "      <th>review_id</th>\n",
       "      <th>reviewer</th>\n",
       "      <th>movie</th>\n",
       "      <th>rating</th>\n",
       "      <th>review_summary</th>\n",
       "      <th>review_date</th>\n",
       "      <th>spoiler_tag</th>\n",
       "      <th>review_detail</th>\n",
       "      <th>helpful</th>\n",
       "    </tr>\n",
       "  </thead>\n",
       "  <tbody>\n",
       "    <tr>\n",
       "      <th>0</th>\n",
       "      <td>rw1133942</td>\n",
       "      <td>OriginalMovieBuff21</td>\n",
       "      <td>Kill Bill: Vol. 2 (2004)</td>\n",
       "      <td>8.0</td>\n",
       "      <td>Good follow up that answers all the questions</td>\n",
       "      <td>24 July 2005</td>\n",
       "      <td>0</td>\n",
       "      <td>After seeing Tarantino's Kill Bill Vol: 1, I g...</td>\n",
       "      <td>['0', '1']</td>\n",
       "    </tr>\n",
       "    <tr>\n",
       "      <th>1</th>\n",
       "      <td>rw1133959</td>\n",
       "      <td>lost-in-limbo</td>\n",
       "      <td>Feardotcom (2002)</td>\n",
       "      <td>3.0</td>\n",
       "      <td>\"I couldn't make much sense of it myself\". Too...</td>\n",
       "      <td>24 July 2005</td>\n",
       "      <td>0</td>\n",
       "      <td>There's a Website called FearDotCom and anyone...</td>\n",
       "      <td>['1', '4']</td>\n",
       "    </tr>\n",
       "    <tr>\n",
       "      <th>2</th>\n",
       "      <td>rw1133985</td>\n",
       "      <td>NateManD</td>\n",
       "      <td>Persona (1966)</td>\n",
       "      <td>10.0</td>\n",
       "      <td>Persona gives me all the reasons to love art-h...</td>\n",
       "      <td>24 July 2005</td>\n",
       "      <td>0</td>\n",
       "      <td>Long before \"Muholland Drive\" there was anothe...</td>\n",
       "      <td>['9', '23']</td>\n",
       "    </tr>\n",
       "    <tr>\n",
       "      <th>3</th>\n",
       "      <td>rw1133999</td>\n",
       "      <td>CAMACHO-4</td>\n",
       "      <td>War of the Worlds (2005)</td>\n",
       "      <td>3.0</td>\n",
       "      <td>A disappointing film from the team that you Mi...</td>\n",
       "      <td>24 July 2005</td>\n",
       "      <td>0</td>\n",
       "      <td>Spielberg said this film is based on the H.G. ...</td>\n",
       "      <td>['9', '14']</td>\n",
       "    </tr>\n",
       "    <tr>\n",
       "      <th>4</th>\n",
       "      <td>rw1134010</td>\n",
       "      <td>CAMACHO-4</td>\n",
       "      <td>Mr. &amp; Mrs. Smith (2005)</td>\n",
       "      <td>6.0</td>\n",
       "      <td>A fun action movie with great chemistry</td>\n",
       "      <td>24 July 2005</td>\n",
       "      <td>0</td>\n",
       "      <td>Director Doug Liman, who's gotten famous for m...</td>\n",
       "      <td>['1', '3']</td>\n",
       "    </tr>\n",
       "  </tbody>\n",
       "</table>\n",
       "</div>"
      ],
      "text/plain": [
       "   review_id             reviewer                     movie  rating  \\\n",
       "0  rw1133942  OriginalMovieBuff21  Kill Bill: Vol. 2 (2004)     8.0   \n",
       "1  rw1133959        lost-in-limbo         Feardotcom (2002)     3.0   \n",
       "2  rw1133985             NateManD            Persona (1966)    10.0   \n",
       "3  rw1133999            CAMACHO-4  War of the Worlds (2005)     3.0   \n",
       "4  rw1134010            CAMACHO-4   Mr. & Mrs. Smith (2005)     6.0   \n",
       "\n",
       "                                      review_summary   review_date  \\\n",
       "0      Good follow up that answers all the questions  24 July 2005   \n",
       "1  \"I couldn't make much sense of it myself\". Too...  24 July 2005   \n",
       "2  Persona gives me all the reasons to love art-h...  24 July 2005   \n",
       "3  A disappointing film from the team that you Mi...  24 July 2005   \n",
       "4            A fun action movie with great chemistry  24 July 2005   \n",
       "\n",
       "   spoiler_tag                                      review_detail      helpful  \n",
       "0            0  After seeing Tarantino's Kill Bill Vol: 1, I g...   ['0', '1']  \n",
       "1            0  There's a Website called FearDotCom and anyone...   ['1', '4']  \n",
       "2            0  Long before \"Muholland Drive\" there was anothe...  ['9', '23']  \n",
       "3            0  Spielberg said this film is based on the H.G. ...  ['9', '14']  \n",
       "4            0  Director Doug Liman, who's gotten famous for m...   ['1', '3']  "
      ]
     },
     "execution_count": 2,
     "metadata": {},
     "output_type": "execute_result"
    }
   ],
   "source": [
    "reviews_df = pd.read_csv(\"./dataset/reviews.csv\")\n",
    "reviews_df.head(5)"
   ]
  },
  {
   "cell_type": "markdown",
   "metadata": {},
   "source": [
    "## Exploratory Data Analysis"
   ]
  },
  {
   "cell_type": "code",
   "execution_count": null,
   "metadata": {},
   "outputs": [],
   "source": []
  },
  {
   "cell_type": "markdown",
   "metadata": {},
   "source": [
    "## Model Creation"
   ]
  },
  {
   "cell_type": "code",
   "execution_count": null,
   "metadata": {},
   "outputs": [],
   "source": []
  },
  {
   "cell_type": "markdown",
   "metadata": {},
   "source": [
    "## Model Evaluation"
   ]
  },
  {
   "cell_type": "code",
   "execution_count": null,
   "metadata": {},
   "outputs": [],
   "source": []
  },
  {
   "cell_type": "markdown",
   "metadata": {},
   "source": [
    "## References"
   ]
  }
 ],
 "metadata": {
  "kernelspec": {
   "display_name": "Python 3",
   "language": "python",
   "name": "python3"
  },
  "language_info": {
   "codemirror_mode": {
    "name": "ipython",
    "version": 3
   },
   "file_extension": ".py",
   "mimetype": "text/x-python",
   "name": "python",
   "nbconvert_exporter": "python",
   "pygments_lexer": "ipython3",
   "version": "3.10.7"
  }
 },
 "nbformat": 4,
 "nbformat_minor": 2
}

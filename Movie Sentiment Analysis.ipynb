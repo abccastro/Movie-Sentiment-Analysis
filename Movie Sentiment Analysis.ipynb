{
 "cells": [
  {
   "cell_type": "markdown",
   "metadata": {},
   "source": [
    "# __Movie Sentiment Analysis__"
   ]
  },
  {
   "cell_type": "code",
   "execution_count": 1,
   "metadata": {},
   "outputs": [],
   "source": [
    "import pandas as pd\n",
    "import numpy as np\n",
    "import re\n",
    "import contractions\n",
    "import nltk\n",
    "import contractions\n",
    "import matplotlib.pyplot as plt\n",
    "import seaborn as sns\n",
    "import warnings\n",
    "import text_preprocessing as tp\n",
    "\n",
    "from nltk.corpus import stopwords, words\n",
    "from nltk.tokenize import word_tokenize\n",
    "from nltk.stem import WordNetLemmatizer\n",
    "from flashtext import KeywordProcessor\n",
    "\n",
    "\n",
    "warnings.filterwarnings(\"ignore\")"
   ]
  },
  {
   "cell_type": "markdown",
   "metadata": {},
   "source": [
    "IMDB dataset for movie details and reviews: data source from https://www.kaggle.com/datasets/raynardj/imdb-vision-and-nlp/data"
   ]
  },
  {
   "cell_type": "code",
   "execution_count": 2,
   "metadata": {},
   "outputs": [
    {
     "data": {
      "text/html": [
       "<div>\n",
       "<style scoped>\n",
       "    .dataframe tbody tr th:only-of-type {\n",
       "        vertical-align: middle;\n",
       "    }\n",
       "\n",
       "    .dataframe tbody tr th {\n",
       "        vertical-align: top;\n",
       "    }\n",
       "\n",
       "    .dataframe thead th {\n",
       "        text-align: right;\n",
       "    }\n",
       "</style>\n",
       "<table border=\"1\" class=\"dataframe\">\n",
       "  <thead>\n",
       "    <tr style=\"text-align: right;\">\n",
       "      <th></th>\n",
       "      <th>imdbId</th>\n",
       "      <th>Imdb Link</th>\n",
       "      <th>Title</th>\n",
       "      <th>IMDB Score</th>\n",
       "      <th>Genre</th>\n",
       "      <th>local_image_path</th>\n",
       "    </tr>\n",
       "  </thead>\n",
       "  <tbody>\n",
       "    <tr>\n",
       "      <th>0</th>\n",
       "      <td>114709</td>\n",
       "      <td>http://www.imdb.com/title/tt114709</td>\n",
       "      <td>Toy Story (1995)</td>\n",
       "      <td>8.3</td>\n",
       "      <td>Animation;Adventure;Comedy</td>\n",
       "      <td>images/114709_.jpg</td>\n",
       "    </tr>\n",
       "    <tr>\n",
       "      <th>1</th>\n",
       "      <td>113497</td>\n",
       "      <td>http://www.imdb.com/title/tt113497</td>\n",
       "      <td>Jumanji (1995)</td>\n",
       "      <td>6.9</td>\n",
       "      <td>Action;Adventure;Family</td>\n",
       "      <td>images/113497_.jpg</td>\n",
       "    </tr>\n",
       "    <tr>\n",
       "      <th>2</th>\n",
       "      <td>113277</td>\n",
       "      <td>http://www.imdb.com/title/tt113277</td>\n",
       "      <td>Heat (1995)</td>\n",
       "      <td>8.2</td>\n",
       "      <td>Action;Crime;Drama</td>\n",
       "      <td>images/113277_.jpg</td>\n",
       "    </tr>\n",
       "    <tr>\n",
       "      <th>3</th>\n",
       "      <td>114319</td>\n",
       "      <td>http://www.imdb.com/title/tt114319</td>\n",
       "      <td>Sabrina (1995)</td>\n",
       "      <td>6.3</td>\n",
       "      <td>Comedy;Drama</td>\n",
       "      <td>images/114319_.jpg</td>\n",
       "    </tr>\n",
       "    <tr>\n",
       "      <th>4</th>\n",
       "      <td>114576</td>\n",
       "      <td>http://www.imdb.com/title/tt114576</td>\n",
       "      <td>Sudden Death (1995)</td>\n",
       "      <td>5.7</td>\n",
       "      <td>Action;Crime;Thriller</td>\n",
       "      <td>images/114576_.jpg</td>\n",
       "    </tr>\n",
       "  </tbody>\n",
       "</table>\n",
       "</div>"
      ],
      "text/plain": [
       "   imdbId                           Imdb Link                Title  \\\n",
       "0  114709  http://www.imdb.com/title/tt114709     Toy Story (1995)   \n",
       "1  113497  http://www.imdb.com/title/tt113497       Jumanji (1995)   \n",
       "2  113277  http://www.imdb.com/title/tt113277          Heat (1995)   \n",
       "3  114319  http://www.imdb.com/title/tt114319       Sabrina (1995)   \n",
       "4  114576  http://www.imdb.com/title/tt114576  Sudden Death (1995)   \n",
       "\n",
       "   IMDB Score                       Genre    local_image_path  \n",
       "0         8.3  Animation;Adventure;Comedy  images/114709_.jpg  \n",
       "1         6.9     Action;Adventure;Family  images/113497_.jpg  \n",
       "2         8.2          Action;Crime;Drama  images/113277_.jpg  \n",
       "3         6.3                Comedy;Drama  images/114319_.jpg  \n",
       "4         5.7       Action;Crime;Thriller  images/114576_.jpg  "
      ]
     },
     "execution_count": 2,
     "metadata": {},
     "output_type": "execute_result"
    }
   ],
   "source": [
    "movies_df = pd.read_csv(\"./dataset/movies.csv\")\n",
    "movies_df.head(5)"
   ]
  },
  {
   "cell_type": "code",
   "execution_count": 3,
   "metadata": {},
   "outputs": [
    {
     "data": {
      "text/html": [
       "<div>\n",
       "<style scoped>\n",
       "    .dataframe tbody tr th:only-of-type {\n",
       "        vertical-align: middle;\n",
       "    }\n",
       "\n",
       "    .dataframe tbody tr th {\n",
       "        vertical-align: top;\n",
       "    }\n",
       "\n",
       "    .dataframe thead th {\n",
       "        text-align: right;\n",
       "    }\n",
       "</style>\n",
       "<table border=\"1\" class=\"dataframe\">\n",
       "  <thead>\n",
       "    <tr style=\"text-align: right;\">\n",
       "      <th></th>\n",
       "      <th>review_id</th>\n",
       "      <th>reviewer</th>\n",
       "      <th>movie</th>\n",
       "      <th>rating</th>\n",
       "      <th>review_summary</th>\n",
       "      <th>review_date</th>\n",
       "      <th>spoiler_tag</th>\n",
       "      <th>review_detail</th>\n",
       "      <th>helpful</th>\n",
       "    </tr>\n",
       "  </thead>\n",
       "  <tbody>\n",
       "    <tr>\n",
       "      <th>0</th>\n",
       "      <td>rw1133942</td>\n",
       "      <td>OriginalMovieBuff21</td>\n",
       "      <td>Kill Bill: Vol. 2 (2004)</td>\n",
       "      <td>8.0</td>\n",
       "      <td>Good a$$ follow up :) that &lt;3 answers all the ...</td>\n",
       "      <td>24 July 2005</td>\n",
       "      <td>0</td>\n",
       "      <td>After seeing Tarantino's Kill Bill Vol: 1, I g...</td>\n",
       "      <td>['0', '1']</td>\n",
       "    </tr>\n",
       "    <tr>\n",
       "      <th>1</th>\n",
       "      <td>rw1133959</td>\n",
       "      <td>lost-in-limbo</td>\n",
       "      <td>Feardotcom (2002)</td>\n",
       "      <td>3.0</td>\n",
       "      <td>\"I couldn't make much sense of it myself\". Too...</td>\n",
       "      <td>24 July 2005</td>\n",
       "      <td>0</td>\n",
       "      <td>There's a Website called FearDotCom and anyone...</td>\n",
       "      <td>['1', '4']</td>\n",
       "    </tr>\n",
       "    <tr>\n",
       "      <th>2</th>\n",
       "      <td>rw1133985</td>\n",
       "      <td>NateManD</td>\n",
       "      <td>Persona (1966)</td>\n",
       "      <td>10.0</td>\n",
       "      <td>Persona gives me all the reasons to love art-h...</td>\n",
       "      <td>24 July 2005</td>\n",
       "      <td>0</td>\n",
       "      <td>Long before \"Muholland Drive\" there was anothe...</td>\n",
       "      <td>['9', '23']</td>\n",
       "    </tr>\n",
       "  </tbody>\n",
       "</table>\n",
       "</div>"
      ],
      "text/plain": [
       "   review_id             reviewer                     movie  rating  \\\n",
       "0  rw1133942  OriginalMovieBuff21  Kill Bill: Vol. 2 (2004)     8.0   \n",
       "1  rw1133959        lost-in-limbo         Feardotcom (2002)     3.0   \n",
       "2  rw1133985             NateManD            Persona (1966)    10.0   \n",
       "\n",
       "                                      review_summary   review_date  \\\n",
       "0  Good a$$ follow up :) that <3 answers all the ...  24 July 2005   \n",
       "1  \"I couldn't make much sense of it myself\". Too...  24 July 2005   \n",
       "2  Persona gives me all the reasons to love art-h...  24 July 2005   \n",
       "\n",
       "   spoiler_tag                                      review_detail      helpful  \n",
       "0            0  After seeing Tarantino's Kill Bill Vol: 1, I g...   ['0', '1']  \n",
       "1            0  There's a Website called FearDotCom and anyone...   ['1', '4']  \n",
       "2            0  Long before \"Muholland Drive\" there was anothe...  ['9', '23']  "
      ]
     },
     "execution_count": 3,
     "metadata": {},
     "output_type": "execute_result"
    }
   ],
   "source": [
    "reviews_df = pd.read_csv(\"./dataset/reviews.csv\")\n",
    "reviews_df.head(5)"
   ]
  },
  {
   "cell_type": "code",
   "execution_count": 4,
   "metadata": {},
   "outputs": [
    {
     "name": "stdout",
     "output_type": "stream",
     "text": [
      "Index(['imdbId', 'imbd_link', 'movie', 'imdb_score', 'genre',\n",
      "       'local_image_path'],\n",
      "      dtype='object')\n"
     ]
    }
   ],
   "source": [
    "# Rename the column names of movies info by removing the spaces and converting to lower case. Changed the \"Title\" to \"movie\" to\n",
    "# match with the column name in review dataframe\n",
    "movies_df = movies_df.rename(columns={\"Imdb Link\" : \"imbd_link\", \"Title\" : \"movie\", \"IMDB Score\" : \"imdb_score\", \"Genre\" : \"genre\"})\n",
    "print(movies_df.columns)"
   ]
  },
  {
   "cell_type": "code",
   "execution_count": 5,
   "metadata": {},
   "outputs": [
    {
     "data": {
      "text/html": [
       "<div>\n",
       "<style scoped>\n",
       "    .dataframe tbody tr th:only-of-type {\n",
       "        vertical-align: middle;\n",
       "    }\n",
       "\n",
       "    .dataframe tbody tr th {\n",
       "        vertical-align: top;\n",
       "    }\n",
       "\n",
       "    .dataframe thead th {\n",
       "        text-align: right;\n",
       "    }\n",
       "</style>\n",
       "<table border=\"1\" class=\"dataframe\">\n",
       "  <thead>\n",
       "    <tr style=\"text-align: right;\">\n",
       "      <th></th>\n",
       "      <th>imdbId</th>\n",
       "      <th>imbd_link</th>\n",
       "      <th>movie</th>\n",
       "      <th>imdb_score</th>\n",
       "      <th>genre</th>\n",
       "      <th>local_image_path</th>\n",
       "      <th>review_id</th>\n",
       "      <th>reviewer</th>\n",
       "      <th>rating</th>\n",
       "      <th>review_summary</th>\n",
       "      <th>review_date</th>\n",
       "      <th>spoiler_tag</th>\n",
       "      <th>review_detail</th>\n",
       "      <th>helpful</th>\n",
       "    </tr>\n",
       "  </thead>\n",
       "  <tbody>\n",
       "    <tr>\n",
       "      <th>0</th>\n",
       "      <td>295254</td>\n",
       "      <td>http://www.imdb.com/title/tt295254</td>\n",
       "      <td>Feardotcom (2002)</td>\n",
       "      <td>3.3</td>\n",
       "      <td>Crime;Horror;Thriller</td>\n",
       "      <td>images/295254_.jpg</td>\n",
       "      <td>rw1133959</td>\n",
       "      <td>lost-in-limbo</td>\n",
       "      <td>3.0</td>\n",
       "      <td>\"I couldn't make much sense of it myself\". Too...</td>\n",
       "      <td>24 July 2005</td>\n",
       "      <td>0</td>\n",
       "      <td>There's a Website called FearDotCom and anyone...</td>\n",
       "      <td>['1', '4']</td>\n",
       "    </tr>\n",
       "    <tr>\n",
       "      <th>1</th>\n",
       "      <td>60827</td>\n",
       "      <td>http://www.imdb.com/title/tt60827</td>\n",
       "      <td>Persona (1966)</td>\n",
       "      <td>8.1</td>\n",
       "      <td>Drama;Thriller</td>\n",
       "      <td>images/60827_.jpg</td>\n",
       "      <td>rw1133985</td>\n",
       "      <td>NateManD</td>\n",
       "      <td>10.0</td>\n",
       "      <td>Persona gives me all the reasons to love art-h...</td>\n",
       "      <td>24 July 2005</td>\n",
       "      <td>0</td>\n",
       "      <td>Long before \"Muholland Drive\" there was anothe...</td>\n",
       "      <td>['9', '23']</td>\n",
       "    </tr>\n",
       "    <tr>\n",
       "      <th>2</th>\n",
       "      <td>378194</td>\n",
       "      <td>http://www.imdb.com/title/tt378194</td>\n",
       "      <td>Kill Bill: Vol. 2 (2004)</td>\n",
       "      <td>8.0</td>\n",
       "      <td>Action;Crime;Drama</td>\n",
       "      <td>images/378194_.jpg</td>\n",
       "      <td>rw1133942</td>\n",
       "      <td>OriginalMovieBuff21</td>\n",
       "      <td>8.0</td>\n",
       "      <td>Good a$$ follow up :) that &lt;3 answers all the ...</td>\n",
       "      <td>24 July 2005</td>\n",
       "      <td>0</td>\n",
       "      <td>After seeing Tarantino's Kill Bill Vol: 1, I g...</td>\n",
       "      <td>['0', '1']</td>\n",
       "    </tr>\n",
       "  </tbody>\n",
       "</table>\n",
       "</div>"
      ],
      "text/plain": [
       "   imdbId                           imbd_link                     movie  \\\n",
       "0  295254  http://www.imdb.com/title/tt295254         Feardotcom (2002)   \n",
       "1   60827   http://www.imdb.com/title/tt60827            Persona (1966)   \n",
       "2  378194  http://www.imdb.com/title/tt378194  Kill Bill: Vol. 2 (2004)   \n",
       "\n",
       "   imdb_score                  genre    local_image_path  review_id  \\\n",
       "0         3.3  Crime;Horror;Thriller  images/295254_.jpg  rw1133959   \n",
       "1         8.1         Drama;Thriller   images/60827_.jpg  rw1133985   \n",
       "2         8.0     Action;Crime;Drama  images/378194_.jpg  rw1133942   \n",
       "\n",
       "              reviewer  rating  \\\n",
       "0        lost-in-limbo     3.0   \n",
       "1             NateManD    10.0   \n",
       "2  OriginalMovieBuff21     8.0   \n",
       "\n",
       "                                      review_summary   review_date  \\\n",
       "0  \"I couldn't make much sense of it myself\". Too...  24 July 2005   \n",
       "1  Persona gives me all the reasons to love art-h...  24 July 2005   \n",
       "2  Good a$$ follow up :) that <3 answers all the ...  24 July 2005   \n",
       "\n",
       "   spoiler_tag                                      review_detail      helpful  \n",
       "0            0  There's a Website called FearDotCom and anyone...   ['1', '4']  \n",
       "1            0  Long before \"Muholland Drive\" there was anothe...  ['9', '23']  \n",
       "2            0  After seeing Tarantino's Kill Bill Vol: 1, I g...   ['0', '1']  "
      ]
     },
     "execution_count": 5,
     "metadata": {},
     "output_type": "execute_result"
    }
   ],
   "source": [
    "# Merge the movie info and reviews in single dataframe using the \"movie\" column\n",
    "movie_reviews_raw_df = pd.merge(movies_df, reviews_df, on=[\"movie\"])\n",
    "movie_reviews_raw_df.head(5)"
   ]
  },
  {
   "cell_type": "code",
   "execution_count": 6,
   "metadata": {},
   "outputs": [
    {
     "data": {
      "text/html": [
       "<div>\n",
       "<style scoped>\n",
       "    .dataframe tbody tr th:only-of-type {\n",
       "        vertical-align: middle;\n",
       "    }\n",
       "\n",
       "    .dataframe tbody tr th {\n",
       "        vertical-align: top;\n",
       "    }\n",
       "\n",
       "    .dataframe thead th {\n",
       "        text-align: right;\n",
       "    }\n",
       "</style>\n",
       "<table border=\"1\" class=\"dataframe\">\n",
       "  <thead>\n",
       "    <tr style=\"text-align: right;\">\n",
       "      <th></th>\n",
       "      <th>movie</th>\n",
       "      <th>genre</th>\n",
       "      <th>rating</th>\n",
       "      <th>review_summary</th>\n",
       "      <th>review_date</th>\n",
       "      <th>review_detail</th>\n",
       "    </tr>\n",
       "  </thead>\n",
       "  <tbody>\n",
       "    <tr>\n",
       "      <th>0</th>\n",
       "      <td>Feardotcom (2002)</td>\n",
       "      <td>Crime;Horror;Thriller</td>\n",
       "      <td>3.0</td>\n",
       "      <td>\"I couldn't make much sense of it myself\". Too...</td>\n",
       "      <td>24 July 2005</td>\n",
       "      <td>There's a Website called FearDotCom and anyone...</td>\n",
       "    </tr>\n",
       "    <tr>\n",
       "      <th>1</th>\n",
       "      <td>Persona (1966)</td>\n",
       "      <td>Drama;Thriller</td>\n",
       "      <td>10.0</td>\n",
       "      <td>Persona gives me all the reasons to love art-h...</td>\n",
       "      <td>24 July 2005</td>\n",
       "      <td>Long before \"Muholland Drive\" there was anothe...</td>\n",
       "    </tr>\n",
       "    <tr>\n",
       "      <th>2</th>\n",
       "      <td>Kill Bill: Vol. 2 (2004)</td>\n",
       "      <td>Action;Crime;Drama</td>\n",
       "      <td>8.0</td>\n",
       "      <td>Good a$$ follow up :) that &lt;3 answers all the ...</td>\n",
       "      <td>24 July 2005</td>\n",
       "      <td>After seeing Tarantino's Kill Bill Vol: 1, I g...</td>\n",
       "    </tr>\n",
       "  </tbody>\n",
       "</table>\n",
       "</div>"
      ],
      "text/plain": [
       "                      movie                  genre  rating  \\\n",
       "0         Feardotcom (2002)  Crime;Horror;Thriller     3.0   \n",
       "1            Persona (1966)         Drama;Thriller    10.0   \n",
       "2  Kill Bill: Vol. 2 (2004)     Action;Crime;Drama     8.0   \n",
       "\n",
       "                                      review_summary   review_date  \\\n",
       "0  \"I couldn't make much sense of it myself\". Too...  24 July 2005   \n",
       "1  Persona gives me all the reasons to love art-h...  24 July 2005   \n",
       "2  Good a$$ follow up :) that <3 answers all the ...  24 July 2005   \n",
       "\n",
       "                                       review_detail  \n",
       "0  There's a Website called FearDotCom and anyone...  \n",
       "1  Long before \"Muholland Drive\" there was anothe...  \n",
       "2  After seeing Tarantino's Kill Bill Vol: 1, I g...  "
      ]
     },
     "execution_count": 6,
     "metadata": {},
     "output_type": "execute_result"
    }
   ],
   "source": [
    "# Drop columns that are not relevant\n",
    "del_columns = ['imdbId', 'imbd_link', 'imdb_score', 'local_image_path', 'review_id', 'reviewer', 'spoiler_tag', 'helpful']\n",
    "\n",
    "movie_reviews_filtered_df = movie_reviews_raw_df.drop(columns=del_columns, axis=1)\n",
    "movie_reviews_filtered_df.head(5)"
   ]
  },
  {
   "cell_type": "code",
   "execution_count": 7,
   "metadata": {},
   "outputs": [
    {
     "data": {
      "text/plain": [
       "0    [Crime, Horror, Thriller]\n",
       "1            [Drama, Thriller]\n",
       "2       [Action, Crime, Drama]\n",
       "Name: genre, dtype: object"
      ]
     },
     "execution_count": 7,
     "metadata": {},
     "output_type": "execute_result"
    }
   ],
   "source": [
    "# Convert genre into list\n",
    "movie_reviews_filtered_df['genre'] = movie_reviews_filtered_df['genre'].apply(lambda x : x.split(\";\"))\n",
    "movie_reviews_filtered_df['genre'].head(5)"
   ]
  },
  {
   "cell_type": "code",
   "execution_count": 8,
   "metadata": {},
   "outputs": [
    {
     "data": {
      "text/html": [
       "<div>\n",
       "<style scoped>\n",
       "    .dataframe tbody tr th:only-of-type {\n",
       "        vertical-align: middle;\n",
       "    }\n",
       "\n",
       "    .dataframe tbody tr th {\n",
       "        vertical-align: top;\n",
       "    }\n",
       "\n",
       "    .dataframe thead th {\n",
       "        text-align: right;\n",
       "    }\n",
       "</style>\n",
       "<table border=\"1\" class=\"dataframe\">\n",
       "  <thead>\n",
       "    <tr style=\"text-align: right;\">\n",
       "      <th></th>\n",
       "      <th>movie</th>\n",
       "      <th>release_year</th>\n",
       "    </tr>\n",
       "  </thead>\n",
       "  <tbody>\n",
       "    <tr>\n",
       "      <th>0</th>\n",
       "      <td>Feardotcom</td>\n",
       "      <td>2002</td>\n",
       "    </tr>\n",
       "    <tr>\n",
       "      <th>1</th>\n",
       "      <td>Persona</td>\n",
       "      <td>1966</td>\n",
       "    </tr>\n",
       "    <tr>\n",
       "      <th>2</th>\n",
       "      <td>Kill Bill: Vol. 2</td>\n",
       "      <td>2004</td>\n",
       "    </tr>\n",
       "  </tbody>\n",
       "</table>\n",
       "</div>"
      ],
      "text/plain": [
       "               movie  release_year\n",
       "0         Feardotcom          2002\n",
       "1            Persona          1966\n",
       "2  Kill Bill: Vol. 2          2004"
      ]
     },
     "execution_count": 8,
     "metadata": {},
     "output_type": "execute_result"
    }
   ],
   "source": [
    "# Separate movie release year from the title\n",
    "pattern_year = r'\\((\\d{4})\\)$'\n",
    "\n",
    "movie_reviews_filtered_df['release_year'] = movie_reviews_filtered_df['movie'].str.extract(pattern_year).astype(int)\n",
    "movie_reviews_filtered_df['movie'] = movie_reviews_filtered_df['movie'].str.replace(pattern_year, '', regex=True).str.strip()\n",
    "movie_reviews_filtered_df[['movie', 'release_year']].head(5)"
   ]
  },
  {
   "cell_type": "code",
   "execution_count": 9,
   "metadata": {},
   "outputs": [
    {
     "name": "stdout",
     "output_type": "stream",
     "text": [
      "<class 'pandas.core.frame.DataFrame'>\n",
      "Int64Index: 3 entries, 0 to 2\n",
      "Data columns (total 7 columns):\n",
      " #   Column          Non-Null Count  Dtype  \n",
      "---  ------          --------------  -----  \n",
      " 0   movie           3 non-null      object \n",
      " 1   genre           3 non-null      object \n",
      " 2   rating          3 non-null      float64\n",
      " 3   review_summary  3 non-null      object \n",
      " 4   review_date     3 non-null      object \n",
      " 5   review_detail   3 non-null      object \n",
      " 6   release_year    3 non-null      int32  \n",
      "dtypes: float64(1), int32(1), object(5)\n",
      "memory usage: 180.0+ bytes\n"
     ]
    }
   ],
   "source": [
    "movie_reviews_filtered_df.info()"
   ]
  },
  {
   "cell_type": "markdown",
   "metadata": {},
   "source": [
    "## Exploratory Data Analysis"
   ]
  },
  {
   "cell_type": "code",
   "execution_count": 10,
   "metadata": {},
   "outputs": [
    {
     "data": {
      "text/plain": [
       "movie             0\n",
       "genre             0\n",
       "rating            0\n",
       "review_summary    0\n",
       "review_date       0\n",
       "review_detail     0\n",
       "release_year      0\n",
       "dtype: int64"
      ]
     },
     "execution_count": 10,
     "metadata": {},
     "output_type": "execute_result"
    }
   ],
   "source": [
    "# Check for missing values\n",
    "movie_reviews_filtered_df.isna().sum().sort_values(ascending=True)"
   ]
  },
  {
   "cell_type": "code",
   "execution_count": 11,
   "metadata": {},
   "outputs": [
    {
     "data": {
      "text/plain": [
       "review_summary    0\n",
       "review_detail     0\n",
       "dtype: int64"
      ]
     },
     "execution_count": 11,
     "metadata": {},
     "output_type": "execute_result"
    }
   ],
   "source": [
    "# Replace all missing values in review summary and detail\n",
    "movie_reviews_filtered_df[['review_summary', 'review_detail']] = movie_reviews_filtered_df[['review_summary', 'review_detail']].fillna('')\n",
    "movie_reviews_filtered_df[['review_summary', 'review_detail']].isna().sum()"
   ]
  },
  {
   "cell_type": "code",
   "execution_count": 12,
   "metadata": {},
   "outputs": [
    {
     "data": {
      "text/html": [
       "<div>\n",
       "<style scoped>\n",
       "    .dataframe tbody tr th:only-of-type {\n",
       "        vertical-align: middle;\n",
       "    }\n",
       "\n",
       "    .dataframe tbody tr th {\n",
       "        vertical-align: top;\n",
       "    }\n",
       "\n",
       "    .dataframe thead th {\n",
       "        text-align: right;\n",
       "    }\n",
       "</style>\n",
       "<table border=\"1\" class=\"dataframe\">\n",
       "  <thead>\n",
       "    <tr style=\"text-align: right;\">\n",
       "      <th></th>\n",
       "      <th>rating</th>\n",
       "      <th>release_year</th>\n",
       "    </tr>\n",
       "  </thead>\n",
       "  <tbody>\n",
       "    <tr>\n",
       "      <th>count</th>\n",
       "      <td>3.000000</td>\n",
       "      <td>3.000000</td>\n",
       "    </tr>\n",
       "    <tr>\n",
       "      <th>mean</th>\n",
       "      <td>7.000000</td>\n",
       "      <td>1990.666667</td>\n",
       "    </tr>\n",
       "    <tr>\n",
       "      <th>std</th>\n",
       "      <td>3.605551</td>\n",
       "      <td>21.385353</td>\n",
       "    </tr>\n",
       "    <tr>\n",
       "      <th>min</th>\n",
       "      <td>3.000000</td>\n",
       "      <td>1966.000000</td>\n",
       "    </tr>\n",
       "    <tr>\n",
       "      <th>25%</th>\n",
       "      <td>5.500000</td>\n",
       "      <td>1984.000000</td>\n",
       "    </tr>\n",
       "    <tr>\n",
       "      <th>50%</th>\n",
       "      <td>8.000000</td>\n",
       "      <td>2002.000000</td>\n",
       "    </tr>\n",
       "    <tr>\n",
       "      <th>75%</th>\n",
       "      <td>9.000000</td>\n",
       "      <td>2003.000000</td>\n",
       "    </tr>\n",
       "    <tr>\n",
       "      <th>max</th>\n",
       "      <td>10.000000</td>\n",
       "      <td>2004.000000</td>\n",
       "    </tr>\n",
       "  </tbody>\n",
       "</table>\n",
       "</div>"
      ],
      "text/plain": [
       "          rating  release_year\n",
       "count   3.000000      3.000000\n",
       "mean    7.000000   1990.666667\n",
       "std     3.605551     21.385353\n",
       "min     3.000000   1966.000000\n",
       "25%     5.500000   1984.000000\n",
       "50%     8.000000   2002.000000\n",
       "75%     9.000000   2003.000000\n",
       "max    10.000000   2004.000000"
      ]
     },
     "execution_count": 12,
     "metadata": {},
     "output_type": "execute_result"
    }
   ],
   "source": [
    "# Show statistical summary of numerical values in the dataframe\n",
    "movie_reviews_filtered_df.describe()"
   ]
  },
  {
   "cell_type": "markdown",
   "metadata": {},
   "source": [
    "__For Text Pre-processing:__ \n",
    "- Remove non-grammatical text like emails and URLs\n",
    "- Replace emojis with English word/s\n",
    "- Handle contractions"
   ]
  },
  {
   "cell_type": "code",
   "execution_count": 13,
   "metadata": {},
   "outputs": [
    {
     "data": {
      "text/html": [
       "<div>\n",
       "<style scoped>\n",
       "    .dataframe tbody tr th:only-of-type {\n",
       "        vertical-align: middle;\n",
       "    }\n",
       "\n",
       "    .dataframe tbody tr th {\n",
       "        vertical-align: top;\n",
       "    }\n",
       "\n",
       "    .dataframe thead th {\n",
       "        text-align: right;\n",
       "    }\n",
       "</style>\n",
       "<table border=\"1\" class=\"dataframe\">\n",
       "  <thead>\n",
       "    <tr style=\"text-align: right;\">\n",
       "      <th></th>\n",
       "      <th>movie</th>\n",
       "      <th>review_summary</th>\n",
       "      <th>review_detail</th>\n",
       "    </tr>\n",
       "  </thead>\n",
       "  <tbody>\n",
       "    <tr>\n",
       "      <th>0</th>\n",
       "      <td>Feardotcom</td>\n",
       "      <td>\"I could not make much sense of it myself\". To...</td>\n",
       "      <td>There is a Website called FearDotCom and anyon...</td>\n",
       "    </tr>\n",
       "    <tr>\n",
       "      <th>1</th>\n",
       "      <td>Persona</td>\n",
       "      <td>Persona gives me all the reasons to love art-h...</td>\n",
       "      <td>Long before \"Muholland Drive\" there was anothe...</td>\n",
       "    </tr>\n",
       "    <tr>\n",
       "      <th>2</th>\n",
       "      <td>Kill Bill: Vol. 2</td>\n",
       "      <td>Good ass follow up happy face that heart answe...</td>\n",
       "      <td>After seeing Tarantino's Kill Bill Vol: 1, I g...</td>\n",
       "    </tr>\n",
       "  </tbody>\n",
       "</table>\n",
       "</div>"
      ],
      "text/plain": [
       "               movie                                     review_summary  \\\n",
       "0         Feardotcom  \"I could not make much sense of it myself\". To...   \n",
       "1            Persona  Persona gives me all the reasons to love art-h...   \n",
       "2  Kill Bill: Vol. 2  Good ass follow up happy face that heart answe...   \n",
       "\n",
       "                                       review_detail  \n",
       "0  There is a Website called FearDotCom and anyon...  \n",
       "1  Long before \"Muholland Drive\" there was anothe...  \n",
       "2  After seeing Tarantino's Kill Bill Vol: 1, I g...  "
      ]
     },
     "execution_count": 13,
     "metadata": {},
     "output_type": "execute_result"
    }
   ],
   "source": [
    "emoji_dict = tp.get_emojis()\n",
    "slang_word_dict = tp.webscrape_slang_words()\n",
    "\n",
    "def initial_text_preprocessing(text):\n",
    "    try:\n",
    "        # Remove non-grammatical text\n",
    "        text = tp.remove_email_address(text)\n",
    "        text = tp.remove_hyperlink(text)\n",
    "\n",
    "        # Replace emojis with English word/s\n",
    "        text = emoji_dict.replace_keywords(text)\n",
    "\n",
    "        # Handle contractions\n",
    "        text = text.replace('İ', 'I')   # to handle errors thrown when fixing the contractions\n",
    "        text = contractions.fix(text)\n",
    "\n",
    "        # Replace slang words\n",
    "        text = slang_word_dict.replace_keywords(text)\n",
    "\n",
    "    except Exception as err:\n",
    "        print(f\"ERROR: {err}\")\n",
    "        print(f\"Input Text: {text}\")\n",
    "\n",
    "    return text\n",
    "\n",
    "\n",
    "text_prep_columns = ['movie', 'review_summary', 'review_detail']\n",
    "\n",
    "movie_reviews_filtered_df[text_prep_columns] = movie_reviews_filtered_df[text_prep_columns].applymap(initial_text_preprocessing)\n",
    "movie_reviews_filtered_df[text_prep_columns]"
   ]
  },
  {
   "cell_type": "code",
   "execution_count": null,
   "metadata": {},
   "outputs": [],
   "source": []
  },
  {
   "cell_type": "markdown",
   "metadata": {},
   "source": [
    "## Model Creation"
   ]
  },
  {
   "cell_type": "code",
   "execution_count": null,
   "metadata": {},
   "outputs": [],
   "source": []
  },
  {
   "cell_type": "markdown",
   "metadata": {},
   "source": [
    "## Model Evaluation"
   ]
  },
  {
   "cell_type": "code",
   "execution_count": null,
   "metadata": {},
   "outputs": [],
   "source": []
  },
  {
   "cell_type": "markdown",
   "metadata": {},
   "source": [
    "## References\n",
    "- https://medium.com/analytics-vidhya/text-preprocessing-nlp-basics-430d54016048\n",
    "- https://towardsdatascience.com/how-to-preprocess-social-media-data-and-text-messages-b011efacf74\n",
    "- https://towardsdatascience.com/5-lesser-known-python-libraries-for-your-next-nlp-project-ff13fc652553\n",
    "- https://medium.com/coinmonks/remaking-of-shortened-sms-tweet-post-slangs-and-word-contraction-into-sentences-nlp-7bd1bbc6fcff\n",
    "- https://sunscrapers.com/blog/9-best-python-natural-language-processing-nlp/"
   ]
  }
 ],
 "metadata": {
  "kernelspec": {
   "display_name": "Python 3",
   "language": "python",
   "name": "python3"
  },
  "language_info": {
   "codemirror_mode": {
    "name": "ipython",
    "version": 3
   },
   "file_extension": ".py",
   "mimetype": "text/x-python",
   "name": "python",
   "nbconvert_exporter": "python",
   "pygments_lexer": "ipython3",
   "version": "3.10.7"
  }
 },
 "nbformat": 4,
 "nbformat_minor": 2
}

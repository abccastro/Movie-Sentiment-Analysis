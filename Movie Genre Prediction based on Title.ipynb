{
 "cells": [
  {
   "cell_type": "markdown",
   "metadata": {},
   "source": [
    "# __Movie Genre Prediction based on Title__"
   ]
  },
  {
   "cell_type": "code",
   "execution_count": 3,
   "metadata": {},
   "outputs": [],
   "source": [
    "import pandas as pd\n",
    "import numpy as np"
   ]
  },
  {
   "cell_type": "markdown",
   "metadata": {},
   "source": [
    "IMDB dataset for movie details and reviews, which was taken from https://www.kaggle.com/datasets/raynardj/imdb-vision-and-nlp/data"
   ]
  },
  {
   "cell_type": "code",
   "execution_count": 4,
   "metadata": {},
   "outputs": [
    {
     "data": {
      "text/html": [
       "<div>\n",
       "<style scoped>\n",
       "    .dataframe tbody tr th:only-of-type {\n",
       "        vertical-align: middle;\n",
       "    }\n",
       "\n",
       "    .dataframe tbody tr th {\n",
       "        vertical-align: top;\n",
       "    }\n",
       "\n",
       "    .dataframe thead th {\n",
       "        text-align: right;\n",
       "    }\n",
       "</style>\n",
       "<table border=\"1\" class=\"dataframe\">\n",
       "  <thead>\n",
       "    <tr style=\"text-align: right;\">\n",
       "      <th></th>\n",
       "      <th>imdbId</th>\n",
       "      <th>Imdb Link</th>\n",
       "      <th>Title</th>\n",
       "      <th>IMDB Score</th>\n",
       "      <th>Genre</th>\n",
       "      <th>local_image_path</th>\n",
       "    </tr>\n",
       "  </thead>\n",
       "  <tbody>\n",
       "    <tr>\n",
       "      <th>0</th>\n",
       "      <td>114709</td>\n",
       "      <td>http://www.imdb.com/title/tt114709</td>\n",
       "      <td>Toy Story (1995)</td>\n",
       "      <td>8.3</td>\n",
       "      <td>Animation;Adventure;Comedy</td>\n",
       "      <td>images/114709_.jpg</td>\n",
       "    </tr>\n",
       "    <tr>\n",
       "      <th>1</th>\n",
       "      <td>113497</td>\n",
       "      <td>http://www.imdb.com/title/tt113497</td>\n",
       "      <td>Jumanji (1995)</td>\n",
       "      <td>6.9</td>\n",
       "      <td>Action;Adventure;Family</td>\n",
       "      <td>images/113497_.jpg</td>\n",
       "    </tr>\n",
       "    <tr>\n",
       "      <th>2</th>\n",
       "      <td>113277</td>\n",
       "      <td>http://www.imdb.com/title/tt113277</td>\n",
       "      <td>Heat (1995)</td>\n",
       "      <td>8.2</td>\n",
       "      <td>Action;Crime;Drama</td>\n",
       "      <td>images/113277_.jpg</td>\n",
       "    </tr>\n",
       "    <tr>\n",
       "      <th>3</th>\n",
       "      <td>114319</td>\n",
       "      <td>http://www.imdb.com/title/tt114319</td>\n",
       "      <td>Sabrina (1995)</td>\n",
       "      <td>6.3</td>\n",
       "      <td>Comedy;Drama</td>\n",
       "      <td>images/114319_.jpg</td>\n",
       "    </tr>\n",
       "    <tr>\n",
       "      <th>4</th>\n",
       "      <td>114576</td>\n",
       "      <td>http://www.imdb.com/title/tt114576</td>\n",
       "      <td>Sudden Death (1995)</td>\n",
       "      <td>5.7</td>\n",
       "      <td>Action;Crime;Thriller</td>\n",
       "      <td>images/114576_.jpg</td>\n",
       "    </tr>\n",
       "  </tbody>\n",
       "</table>\n",
       "</div>"
      ],
      "text/plain": [
       "   imdbId                           Imdb Link                Title  \\\n",
       "0  114709  http://www.imdb.com/title/tt114709     Toy Story (1995)   \n",
       "1  113497  http://www.imdb.com/title/tt113497       Jumanji (1995)   \n",
       "2  113277  http://www.imdb.com/title/tt113277          Heat (1995)   \n",
       "3  114319  http://www.imdb.com/title/tt114319       Sabrina (1995)   \n",
       "4  114576  http://www.imdb.com/title/tt114576  Sudden Death (1995)   \n",
       "\n",
       "   IMDB Score                       Genre    local_image_path  \n",
       "0         8.3  Animation;Adventure;Comedy  images/114709_.jpg  \n",
       "1         6.9     Action;Adventure;Family  images/113497_.jpg  \n",
       "2         8.2          Action;Crime;Drama  images/113277_.jpg  \n",
       "3         6.3                Comedy;Drama  images/114319_.jpg  \n",
       "4         5.7       Action;Crime;Thriller  images/114576_.jpg  "
      ]
     },
     "execution_count": 4,
     "metadata": {},
     "output_type": "execute_result"
    }
   ],
   "source": [
    "movies_df = pd.read_csv(\"./dataset/movies.csv\")\n",
    "movies_df.head(5)"
   ]
  },
  {
   "cell_type": "markdown",
   "metadata": {},
   "source": [
    "## Exploratory Data Analysis"
   ]
  },
  {
   "cell_type": "code",
   "execution_count": null,
   "metadata": {},
   "outputs": [],
   "source": []
  },
  {
   "cell_type": "markdown",
   "metadata": {},
   "source": [
    "## Model Creation"
   ]
  },
  {
   "cell_type": "code",
   "execution_count": null,
   "metadata": {},
   "outputs": [],
   "source": []
  },
  {
   "cell_type": "markdown",
   "metadata": {},
   "source": [
    "## Model Evaluation"
   ]
  },
  {
   "cell_type": "code",
   "execution_count": null,
   "metadata": {},
   "outputs": [],
   "source": []
  },
  {
   "cell_type": "markdown",
   "metadata": {},
   "source": [
    "## References"
   ]
  }
 ],
 "metadata": {
  "kernelspec": {
   "display_name": "Python 3",
   "language": "python",
   "name": "python3"
  },
  "language_info": {
   "codemirror_mode": {
    "name": "ipython",
    "version": 3
   },
   "file_extension": ".py",
   "mimetype": "text/x-python",
   "name": "python",
   "nbconvert_exporter": "python",
   "pygments_lexer": "ipython3",
   "version": "3.10.7"
  }
 },
 "nbformat": 4,
 "nbformat_minor": 2
}
